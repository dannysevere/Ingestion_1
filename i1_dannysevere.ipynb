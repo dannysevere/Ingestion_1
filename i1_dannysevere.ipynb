{
 "cells": [
  {
   "cell_type": "code",
   "execution_count": 1,
   "id": "09786879",
   "metadata": {},
   "outputs": [],
   "source": [
    "#1 Danny Severe"
   ]
  },
  {
   "cell_type": "code",
   "execution_count": 2,
   "id": "1ad55862",
   "metadata": {},
   "outputs": [
    {
     "name": "stdout",
     "output_type": "stream",
     "text": [
      "                         corgname  breed gender  weight  age fromfile\n",
      "corgid                                                               \n",
      "1                         Brookie    Pem      F      21  3.5     None\n",
      "2                   Golden Graham    Pem      M      30  2.0     None\n",
      "3                          Kraken    Pem     SF      22  3.5     None\n",
      "4                     Snarla June    Pem     SF      29  3.5     None\n",
      "5                           Isaac  Cardi     NM      33  4.5     None\n",
      "6                         Stanley    Pem      M      33  3.5     None\n",
      "7                         Optimus    Pem      M      25  4.0     None\n",
      "8                        Gu∂ri∂ur    Pem      F      20  5.0     None\n",
      "9       Baroness von Fluffyshanks    Pem     SF      22  4.0     None\n",
      "10                     Prometheus    Pem      M      27  5.0     None\n",
      "11                 Foxy Stumptail    Pem     NM      29  5.5     None\n",
      "12                      Drederick    Pem      M      29  4.5     None\n",
      "13              Lady Wigglebottom    Pem      F      28  4.0     None\n",
      "14                       Jedediah    Pem     NM      30  4.0     None\n",
      "15                   Miss Juniper    Pem     SF      21  2.5     None\n",
      "16            Mary Queen of Corgs    Pem     SF      23  4.5     None\n",
      "17                        Oatmeal    Pem     SF      26  5.5     None\n",
      "18                     Cowboy Dan    Pem      M      26  5.5     None\n",
      "19                    Gareth Bale    Pem     NM      31  5.0     None\n",
      "20                  Winston Smith  Cardi      M      32  4.5     None\n",
      "21                          Bucco    Pem      M      32  4.0     None\n",
      "22                       Fruitcup  Cardi      F      23  2.5     None\n",
      "23                      Sweet Dee    Pem     SF      20  5.0     None\n",
      "24                          Sempo    Pem     NM      29  2.5     None\n",
      "25                           Crow    Pem      M      28  2.0     None\n"
     ]
    }
   ],
   "source": [
    "#2\n",
    "\n",
    "import pandas as pd\n",
    "import psycopg2 as psy\n",
    "import warnings\n",
    "\n",
    "warnings.filterwarnings(\"ignore\")\n",
    "\n",
    "conn = psy.connect(database='corgirace', \\\n",
    "                   user='dannysevere', \\\n",
    "                   password='Severe21!', \\\n",
    "                   host='dbsevere.ct4e9f3blg2v.us-west-1.rds.amazonaws.com', \\\n",
    "                   port='5432')\n",
    "\n",
    "cursor = conn.cursor()\n",
    "\n",
    "query = 'SELECT * FROM CORGI'\n",
    "\n",
    "df = pd.read_sql(query, conn, index_col='corgid')\n",
    "print(df)"
   ]
  },
  {
   "cell_type": "code",
   "execution_count": 10,
   "id": "7d399ac1",
   "metadata": {},
   "outputs": [
    {
     "name": "stdout",
     "output_type": "stream",
     "text": [
      "Corgname: Should be VarChar(30) to accomodate long names\n",
      "Breed: The only valid inputs would be Pem and Cardi.\n",
      "Gender: Only valid inputs are F, M, SF, and NM.\n",
      "Weight: Should be two digit values ranging from 10-40.\n",
      "Age: Age will be a two digit value with one digit after the decimal.\n"
     ]
    }
   ],
   "source": [
    "#3\n",
    "\n",
    "print(\"Corgname: Should be VarChar(30) to accomodate long names\")\n",
    "print(\"Breed: The only valid inputs would be Pem and Cardi.\")\n",
    "print(\"Gender: Only valid inputs are F, M, SF, and NM.\")\n",
    "print(\"Weight: Should be two digit values ranging from 10-40.\")\n",
    "print(\"Age: Age will be a two digit value with one digit after the decimal.\")"
   ]
  },
  {
   "cell_type": "code",
   "execution_count": 4,
   "id": "6e97632f",
   "metadata": {},
   "outputs": [],
   "source": [
    "#4\n",
    "\n",
    "query = '''CREATE TABLE IF NOT EXISTS ingest (\n",
    "            Filename VARCHAR(50) PRIMARY KEY,\n",
    "            Whendone TIMESTAMP NOT NULL);'''\n",
    "\n",
    "cursor.execute(query)\n",
    "conn.commit()\n"
   ]
  },
  {
   "cell_type": "code",
   "execution_count": 5,
   "id": "cfb633e0",
   "metadata": {},
   "outputs": [],
   "source": [
    "#5\n",
    "\n",
    "query = '''ALTER TABLE CORGI\n",
    "            ADD COLUMN IF NOT EXISTS fromfile VARCHAR(50);'''\n",
    "\n",
    "cursor.execute(query)\n",
    "conn.commit()"
   ]
  },
  {
   "cell_type": "code",
   "execution_count": 6,
   "id": "662d52f4",
   "metadata": {},
   "outputs": [
    {
     "name": "stdout",
     "output_type": "stream",
     "text": [
      "                     corgname fromfile\n",
      "0                     Brookie     None\n",
      "1               Golden Graham     None\n",
      "2                      Kraken     None\n",
      "3                 Snarla June     None\n",
      "4                       Isaac     None\n",
      "5                     Stanley     None\n",
      "6                     Optimus     None\n",
      "7                    Gu∂ri∂ur     None\n",
      "8   Baroness von Fluffyshanks     None\n",
      "9                  Prometheus     None\n",
      "10             Foxy Stumptail     None\n",
      "11                  Drederick     None\n",
      "12          Lady Wigglebottom     None\n",
      "13                   Jedediah     None\n",
      "14               Miss Juniper     None\n",
      "15        Mary Queen of Corgs     None\n",
      "16                    Oatmeal     None\n",
      "17                 Cowboy Dan     None\n",
      "18                Gareth Bale     None\n",
      "19              Winston Smith     None\n",
      "20                      Bucco     None\n",
      "21                   Fruitcup     None\n",
      "22                  Sweet Dee     None\n",
      "23                      Sempo     None\n",
      "24                       Crow     None\n"
     ]
    }
   ],
   "source": [
    "query = 'SELECT corgname, fromfile FROM CORGI'\n",
    "\n",
    "df = pd.read_sql(query, conn)\n",
    "print(df)"
   ]
  },
  {
   "cell_type": "code",
   "execution_count": 7,
   "id": "f993ff47",
   "metadata": {},
   "outputs": [
    {
     "name": "stdout",
     "output_type": "stream",
     "text": [
      "This file has been accepted for processing\n",
      "          corgname  breed gender  weight  age\n",
      "0         Francine    Pem      F      24  3.5\n",
      "1         Prudence    Pem     SF      29  4.0\n",
      "2        Fort Knox  Cardi     NM      33  3.3\n",
      "3          Gruyere    Pem     SF      22  1.5\n",
      "4     Sir Barxalot    Pem      M      26  2.0\n",
      "5      Tuning Fork  Cardi     NM      29  1.8\n",
      "6          Wiffles    Pem     SF      23  5.0\n",
      "7           Wumpus    Pem      F      26  1.2\n",
      "8  Qween Kanonball    Pem      F      29  3.5\n",
      "Record created for Francine\n",
      "Record created for Prudence\n",
      "Record created for Fort Knox\n",
      "Record created for Gruyere\n",
      "Record created for Sir Barxalot\n",
      "Record created for Tuning Fork\n",
      "Record created for Wiffles\n",
      "Record created for Wumpus\n",
      "Record created for Qween Kanonball\n",
      "Ingestion is complete for Documents/python/newcorgis-20220618.csv\n",
      "                                  filename                   whendone\n",
      "0  Documents/python/newcorgis-20220618.csv 2024-02-24 02:53:44.509060\n"
     ]
    }
   ],
   "source": [
    "#6\n",
    "\n",
    "csvname = 'Documents/python/newcorgis-20220618.csv'\n",
    "\n",
    "query = '''\n",
    "        SELECT COUNT(*)\n",
    "        FROM CORGI\n",
    "        WHERE fromfile = %s\n",
    "        '''\n",
    "\n",
    "cursor.execute(query, (csvname,))\n",
    "\n",
    "y = cursor.fetchone()\n",
    "\n",
    "if y[0] == True:\n",
    "    print('This file has been processed')\n",
    "    \n",
    "if y[0] == False:\n",
    "    print('This file has been accepted for processing')\n",
    "    \n",
    "    df2 = pd.read_csv(csvname)\n",
    "    df2.rename(columns={'Name':'corgname', 'Breed':'breed', 'Gender':'gender', 'Weight':'weight', 'Age':'age'}, inplace=True)\n",
    "    df2['breed'].replace(['PWC', 'CWC'], ['Pem', 'Cardi'], inplace=True)   \n",
    "    df2['gender'].replace('Fem', 'F', inplace=True)\n",
    "    df2['weight'] = df2['weight'].astype(int)\n",
    "    print(df2)\n",
    "    \n",
    "    for x in df2.index:\n",
    "        cursor.execute('''INSERT INTO CORGI (corgname, breed, gender, weight, age, fromfile)\n",
    "                            VALUES ('%s', '%s', '%s', %s, %s, '%s')'''% (df2['corgname'].loc[x], df2['breed'].loc[x], df2['gender'].loc[x], df2['weight'].loc[x], df2['age'].loc[x], csvname))\n",
    "        conn.commit()\n",
    "        \n",
    "        print('Record created for %s'% (df2['corgname'].loc[x]))\n",
    "        \n",
    "    cursor.execute('''INSERT INTO ingest (filename, whendone)\n",
    "                            VALUES ('%s', current_timestamp)'''% (csvname))\n",
    "    conn.commit()\n",
    "    print('Ingestion is complete for', csvname)\n",
    "    \n",
    "    query = ('''SELECT *\n",
    "            FROM ingest\n",
    "            where filename = '%s'; '''% (csvname))\n",
    "\n",
    "    df = pd.read_sql(query, conn)\n",
    "    print(df)\n",
    "    \n",
    "    "
   ]
  },
  {
   "cell_type": "code",
   "execution_count": 8,
   "id": "d2cb3dbf",
   "metadata": {},
   "outputs": [
    {
     "name": "stdout",
     "output_type": "stream",
     "text": [
      "   corgid         corgname  breed gender  weight  age  \\\n",
      "0      26         Francine    Pem      F      24  3.5   \n",
      "1      27         Prudence    Pem     SF      29  4.0   \n",
      "2      28        Fort Knox  Cardi     NM      33  3.3   \n",
      "3      29          Gruyere    Pem     SF      22  1.5   \n",
      "4      30     Sir Barxalot    Pem      M      26  2.0   \n",
      "5      31      Tuning Fork  Cardi     NM      29  1.8   \n",
      "6      32          Wiffles    Pem     SF      23  5.0   \n",
      "7      33           Wumpus    Pem      F      26  1.2   \n",
      "8      34  Qween Kanonball    Pem      F      29  3.5   \n",
      "\n",
      "                                  fromfile  \n",
      "0  Documents/python/newcorgis-20220618.csv  \n",
      "1  Documents/python/newcorgis-20220618.csv  \n",
      "2  Documents/python/newcorgis-20220618.csv  \n",
      "3  Documents/python/newcorgis-20220618.csv  \n",
      "4  Documents/python/newcorgis-20220618.csv  \n",
      "5  Documents/python/newcorgis-20220618.csv  \n",
      "6  Documents/python/newcorgis-20220618.csv  \n",
      "7  Documents/python/newcorgis-20220618.csv  \n",
      "8  Documents/python/newcorgis-20220618.csv  \n"
     ]
    }
   ],
   "source": [
    "#7\n",
    "\n",
    "query = ('''SELECT *\n",
    "            FROM corgi\n",
    "            where fromfile = '%s'; '''% (csvname))\n",
    "\n",
    "dfv = pd.read_sql(query, conn)\n",
    "\n",
    "print(dfv)"
   ]
  },
  {
   "cell_type": "code",
   "execution_count": null,
   "id": "db59a1f5",
   "metadata": {},
   "outputs": [],
   "source": []
  }
 ],
 "metadata": {
  "kernelspec": {
   "display_name": "Python 3 (ipykernel)",
   "language": "python",
   "name": "python3"
  },
  "language_info": {
   "codemirror_mode": {
    "name": "ipython",
    "version": 3
   },
   "file_extension": ".py",
   "mimetype": "text/x-python",
   "name": "python",
   "nbconvert_exporter": "python",
   "pygments_lexer": "ipython3",
   "version": "3.11.5"
  }
 },
 "nbformat": 4,
 "nbformat_minor": 5
}
